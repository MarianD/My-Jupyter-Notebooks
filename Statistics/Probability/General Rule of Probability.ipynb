{
 "cells": [
  {
   "cell_type": "markdown",
   "metadata": {},
   "source": [
    "<u>General Addition Rule</u>\n",
    "<p></p>\n",
    "$$ P(E \\cup F) = P(E) + P(F) - P(E \\cap F) $$\n",
    "<p></p>\n",
    "<p></p>\n",
    "\n",
    "\n",
    "![Venn Diagram](img/VennIntersection.jpg)\n",
    "\n",
    "Notice how you have to subtract P(E and F) so you won't be double counting <p></p>\n",
    "<b>Why is it called the \"General\" rule?</b> <p></p>\n",
    "\"General\" means can be used on BOTH disjoint <u>and</u> non-disjoint events.\n",
    "\n"
   ]
  },
  {
   "cell_type": "markdown",
   "metadata": {
    "collapsed": true
   },
   "source": [
    "++++++++++++++++++++++++++++++++++++++++++ <p></p>\n",
    "Example 1: <p></p>\n",
    "Find (PE or F) <p></p>\n",
    "If P(E) = 0.25, P(F) = 0.45, and  P(E and F) = 0.15\n",
    "<p></p>\n",
    "<u>answer</u><p></p>\n",
    "P(E or F) = P(E)+P(F)-P(E and F)\n",
    "\n",
    "P(E or F) = 0.25 + 0.45 - 0.15\n"
   ]
  },
  {
   "cell_type": "code",
   "execution_count": 2,
   "metadata": {
    "collapsed": false
   },
   "outputs": [
    {
     "data": {
      "text/plain": [
       "0.85"
      ]
     },
     "execution_count": 2,
     "metadata": {},
     "output_type": "execute_result"
    }
   ],
   "source": [
    "0.25+0.45-0.15 #P(E or F)"
   ]
  },
  {
   "cell_type": "markdown",
   "metadata": {
    "collapsed": true
   },
   "source": [
    "<center>Example 2:</center><p></p>\n",
    "![General Addition Rule Example 2](img/General_Addition_Rule.png)\n",
    "\n"
   ]
  },
  {
   "cell_type": "markdown",
   "metadata": {},
   "source": [
    "++++++++++++++++++++++++++++++++++++++++<p></p>\n",
    "<center> Example 3: General Addition Rule applied to Disjoint Events</center><p></p>\n",
    "\n",
    "![Disjoint Event](img/disjoint_event.png)\n"
   ]
  },
  {
   "cell_type": "markdown",
   "metadata": {
    "collapsed": true
   },
   "source": [
    "+++++++++++++++++++++++++++++++++++++++++++++++++++++++++++<p></p>\n",
    "<center>Example 4: General Addition Rule applied to non-disjoint events.</center><p></p>\n",
    "\n",
    "![non-disjoint events](img/non_disjoint_event.png)"
   ]
  },
  {
   "cell_type": "code",
   "execution_count": null,
   "metadata": {
    "collapsed": true
   },
   "outputs": [],
   "source": []
  }
 ],
 "metadata": {
  "kernelspec": {
   "display_name": "Python 3",
   "language": "python",
   "name": "python3"
  },
  "language_info": {
   "codemirror_mode": {
    "name": "ipython",
    "version": 3
   },
   "file_extension": ".py",
   "mimetype": "text/x-python",
   "name": "python",
   "nbconvert_exporter": "python",
   "pygments_lexer": "ipython3",
   "version": "3.5.1"
  }
 },
 "nbformat": 4,
 "nbformat_minor": 0
}
